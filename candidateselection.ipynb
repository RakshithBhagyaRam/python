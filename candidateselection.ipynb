{
 "cells": [
  {
   "cell_type": "code",
   "execution_count": 3,
   "id": "1ce9650a",
   "metadata": {},
   "outputs": [
    {
     "name": "stderr",
     "output_type": "stream",
     "text": [
      "C:\\Users\\Rakshith BR\\AppData\\Local\\Temp\\ipykernel_15104\\1244847159.py:5: VisibleDeprecationWarning: Creating an ndarray from ragged nested sequences (which is a list-or-tuple of lists-or-tuples-or ndarrays with different lengths or shapes) is deprecated. If you meant to do this, you must specify 'dtype=object' when creating the ndarray.\n",
      "  tmp_lst=np.array(list(reads))\n"
     ]
    },
    {
     "ename": "IndexError",
     "evalue": "too many indices for array: array is 1-dimensional, but 2 were indexed",
     "output_type": "error",
     "traceback": [
      "\u001b[1;31m---------------------------------------------------------------------------\u001b[0m",
      "\u001b[1;31mIndexError\u001b[0m                                Traceback (most recent call last)",
      "Input \u001b[1;32mIn [3]\u001b[0m, in \u001b[0;36m<cell line: 6>\u001b[1;34m()\u001b[0m\n\u001b[0;32m      4\u001b[0m     reads\u001b[38;5;241m=\u001b[39mcsv\u001b[38;5;241m.\u001b[39mreader(f)\n\u001b[0;32m      5\u001b[0m     tmp_lst\u001b[38;5;241m=\u001b[39mnp\u001b[38;5;241m.\u001b[39marray(\u001b[38;5;28mlist\u001b[39m(reads))\n\u001b[1;32m----> 6\u001b[0m concept\u001b[38;5;241m=\u001b[39mnp\u001b[38;5;241m.\u001b[39marray(\u001b[43mtmp_lst\u001b[49m\u001b[43m[\u001b[49m\u001b[43m:\u001b[49m\u001b[43m,\u001b[49m\u001b[43m:\u001b[49m\u001b[38;5;241;43m-\u001b[39;49m\u001b[38;5;241;43m1\u001b[39;49m\u001b[43m]\u001b[49m)\n\u001b[0;32m     7\u001b[0m target\u001b[38;5;241m=\u001b[39mnp\u001b[38;5;241m.\u001b[39marray(tmp_lst[:,\u001b[38;5;241m-\u001b[39m\u001b[38;5;241m1\u001b[39m])\n\u001b[0;32m      8\u001b[0m \u001b[38;5;28;01mfor\u001b[39;00m i \u001b[38;5;129;01min\u001b[39;00m \u001b[38;5;28mrange\u001b[39m(\u001b[38;5;28mlen\u001b[39m(target)):\n",
      "\u001b[1;31mIndexError\u001b[0m: too many indices for array: array is 1-dimensional, but 2 were indexed"
     ]
    }
   ], 
   "source": [
    "import csv\n",
    "import numpy as np\n",
    "with open('candidate.csv','r') as f:\n",
    "    reads=csv.reader(f)\n",
    "    tmp_lst=np.array(list(reads))\n",
    "concept=np.array(tmp_lst[:,:-1])\n",
    "target=np.array(tmp_lst[:,-1])\n",
    "for i in range(len(target)):\n",
    "    if(target[i]=='yes'):\n",
    "        specific_h=concept[i]\n",
    "        break\n",
    "h=[]\n",
    "generic_h=[['?' for i in range (len(specific_h))]for i in range (len(specific_h))]\n",
    "print(type(generic_h))\n",
    "\n",
    "for i in range(len(target)):\n",
    "    if(target[i]=='yes'):\n",
    "        for j in range (len(specific_h)):\n",
    "            if(specific_h[j]!=concept[i][j]):\n",
    "                specific_h[j]='?'\n",
    "                generic_h[j][j]='?'\n",
    "    else:\n",
    "        for j in range(len(specific_h)):\n",
    "            if(specific_h[j]!=concept[i][j]):\n",
    "                generic_h[j][j]=specific_h[j]\n",
    "            else:\n",
    "                generic_h[j][j]='?'\n",
    "print(\"Step \",i+1)\n",
    "print(\"The most generic is : \",generic_h)\n",
    "print(\"The most specific is : \",specific_h)"
   ]
  },
  {
   "cell_type": "code",
   "execution_count": null,
   "id": "d816f680",
   "metadata": {},
   "outputs": [],
   "source": []
  }
 ],
 "metadata": {
  "kernelspec": {
   "display_name": "Python 3 (ipykernel)",
   "language": "python",
   "name": "python3"
  },
  "language_info": {
   "codemirror_mode": {
    "name": "ipython",
    "version": 3
   },
   "file_extension": ".py",
   "mimetype": "text/x-python",
   "name": "python",
   "nbconvert_exporter": "python",
   "pygments_lexer": "ipython3",
   "version": "3.9.12"
  }
 },
 "nbformat": 4,
 "nbformat_minor": 5
}
